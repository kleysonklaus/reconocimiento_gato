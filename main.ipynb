{
 "cells": [
  {
   "cell_type": "code",
   "execution_count": 1,
   "metadata": {},
   "outputs": [],
   "source": [
    "import numpy as np\n",
    "import matplotlib.pyplot as plt\n",
    "import h5py\n",
    "import scipy\n",
    "from PIL import Image\n",
    "from scipy import ndimage\n",
    "#from lr_utils import load_dataset"
   ]
  },
  {
   "cell_type": "code",
   "execution_count": 2,
   "metadata": {},
   "outputs": [],
   "source": [
    "def load_dataset():\n",
    "    train_dataset = h5py.File('datasets/train_catvnoncat.h5', \"r\")\n",
    "    train_set_x_orig = np.array(train_dataset[\"train_set_x\"][:]) # your train set features\n",
    "    train_set_y_orig = np.array(train_dataset[\"train_set_y\"][:]) # your train set labels\n",
    "\n",
    "    test_dataset = h5py.File('datasets/test_catvnoncat.h5', \"r\")\n",
    "    test_set_x_orig = np.array(test_dataset[\"test_set_x\"][:]) # your test set features\n",
    "    test_set_y_orig = np.array(test_dataset[\"test_set_y\"][:]) # your test set labels\n",
    "\n",
    "    classes = np.array(test_dataset[\"list_classes\"][:]) # the list of classes\n",
    "    \n",
    "    train_set_y_orig = train_set_y_orig.reshape((1, train_set_y_orig.shape[0]))\n",
    "    test_set_y_orig = test_set_y_orig.reshape((1, test_set_y_orig.shape[0]))\n",
    "    \n",
    "    print(\"hi5\")\n",
    "    return train_set_x_orig, train_set_y_orig, test_set_x_orig, test_set_y_orig, classes"
   ]
  },
  {
   "cell_type": "code",
   "execution_count": 3,
   "metadata": {},
   "outputs": [
    {
     "name": "stdout",
     "output_type": "stream",
     "text": [
      "hi5\n"
     ]
    }
   ],
   "source": [
    "train_set_x_orig, train_set_y, test_set_x_orig, test_set_y, classes = load_dataset()"
   ]
  },
  {
   "cell_type": "code",
   "execution_count": 4,
   "metadata": {},
   "outputs": [
    {
     "name": "stdout",
     "output_type": "stream",
     "text": [
      "y = [1] , es ==cat==imagen\n"
     ]
    },
    {
     "data": {
      "image/png": "[encoded data removed]",
      "text/plain": [
       "<Figure size 432x288 with 1 Axes>"
      ]
     },
     "metadata": {
      "needs_background": "light"
     },
     "output_type": "display_data"
    }
   ],
   "source": [
    "index = 11\n",
    "plt.imshow(train_set_x_orig[index])\n",
    "print(\"y = \"+str(train_set_y[:, index])+ \" , es ==\"+classes[np.squeeze(train_set_y[:, index])].decode(\"utf-8\")+ \"==imagen\")"
   ]
  },
  {
   "cell_type": "code",
   "execution_count": 5,
   "metadata": {},
   "outputs": [
    {
     "name": "stdout",
     "output_type": "stream",
     "text": [
      "Número de ejemplos de entrenamiento: 209\n",
      "Número de ejemplos de validación: 209\n",
      "Número de ejemplos de prueba entrada: 50\n",
      "Número de ejemplos de prueba salida: 50\n",
      "Tamaño de cada imagen: 64\n"
     ]
    }
   ],
   "source": [
    "import time\n",
    "### El conjunto de entrada es:\n",
    "print(\"Número de ejemplos de entrenamiento:\", train_set_x_orig.shape[0])\n",
    "### El conjunto de validacion es:\n",
    "print(\"Número de ejemplos de validación:\", train_set_y.shape[1])\n",
    "\n",
    "### El conjunto de prueba es: \n",
    "print(\"Número de ejemplos de prueba entrada:\", test_set_x_orig.shape[0])\n",
    "print(\"Número de ejemplos de prueba salida:\", test_set_y.shape[1])\n",
    "\n",
    "### Cada vector imagen es de dimensión 64x64 .\n",
    "print(\"Tamaño de cada imagen:\", train_set_x_orig.shape[1])\n"
   ]
  },
  {
   "cell_type": "code",
   "execution_count": 6,
   "metadata": {
    "scrolled": true
   },
   "outputs": [
    {
     "name": "stdout",
     "output_type": "stream",
     "text": [
      "[[ 17 196  82 ... 143  22   8]\n",
      " [ 31 192  71 ... 155  24  28]\n",
      " [ 56 190  68 ... 165  23  53]\n",
      " ...\n",
      " [  0  82 138 ...  85   4   0]\n",
      " [  0  80 141 ... 107   5   0]\n",
      " [  0  81 142 ... 149   0   0]]\n",
      "-------------\n",
      "[[158 115 255 ...  41  18 133]\n",
      " [104 110 253 ...  47  18 163]\n",
      " [ 83 111 254 ...  84  16  75]\n",
      " ...\n",
      " [173 171 133 ... 183 144   5]\n",
      " [128 176 101 ... 141 137  22]\n",
      " [110 186 121 ... 116 108   5]]\n"
     ]
    }
   ],
   "source": [
    "### Remodelando datos de entrenamiento y prueba, para que se aplanen en vectores\n",
    "\n",
    "train_set_x_orig_flatten = train_set_x_orig.reshape (train_set_x_orig.shape [0], -1) .T # X.T es la transposición de X\n",
    "print (train_set_x_orig_flatten)\n",
    "\n",
    "print (\"-------------\")\n",
    "\n",
    "test_set_x_orig_flatten = test_set_x_orig.reshape (test_set_x_orig.shape [0], -1) .T # X.T es la transposición de X\n",
    "print (test_set_x_orig_flatten)"
   ]
  },
  {
   "cell_type": "code",
   "execution_count": 13,
   "metadata": {},
   "outputs": [],
   "source": [
    "### Funcion sigmoide\n",
    "### import numpy as np\n",
    "def sigmoide(self):\n",
    "  return 1 / (1 + np.exp(-self))"
   ]
  },
  {
   "cell_type": "code",
   "execution_count": 17,
   "metadata": {
    "scrolled": true
   },
   "outputs": [
    {
     "name": "stdout",
     "output_type": "stream",
     "text": [
      "[0.5629767  0.64417852 0.71818675 0.57260822 0.56023116 0.54376722\n",
      " 0.53535678 0.69625717 0.6287452  0.62340209 0.66974165 0.69887796\n",
      " 0.51416524 0.68930061 0.72211683 0.62314488 0.5282958  0.72991511\n",
      " 0.59106642 0.70473663 0.52002458 0.53617057 0.54674414 0.54382221\n",
      " 0.72831755 0.58969478 0.55530676 0.58267414 0.68111476 0.69906573\n",
      " 0.60899175 0.67435978 0.56626687 0.51363081 0.5195655  0.52565915\n",
      " 0.69388517 0.5357103  0.69461171 0.59514275 0.70023848 0.71938911\n",
      " 0.51900284 0.67269515 0.54103084 0.53397245 0.50751676 0.66500681\n",
      " 0.72381917 0.60168523]\n"
     ]
    }
   ],
   "source": [
    "valor = np.random.random(50)\n",
    "print (sigmoide(valor))"
   ]
  },
  {
   "cell_type": "code",
   "execution_count": 9,
   "metadata": {},
   "outputs": [
    {
     "name": "stdout",
     "output_type": "stream",
     "text": [
      "[[0.06666667 0.76862745 0.32156863 ... 0.56078431 0.08627451 0.03137255]\n",
      " [0.12156863 0.75294118 0.27843137 ... 0.60784314 0.09411765 0.10980392]\n",
      " [0.21960784 0.74509804 0.26666667 ... 0.64705882 0.09019608 0.20784314]\n",
      " ...\n",
      " [0.         0.32156863 0.54117647 ... 0.33333333 0.01568627 0.        ]\n",
      " [0.         0.31372549 0.55294118 ... 0.41960784 0.01960784 0.        ]\n",
      " [0.         0.31764706 0.55686275 ... 0.58431373 0.         0.        ]]\n"
     ]
    }
   ],
   "source": [
    "### Estandarizando conjunto de datos\n",
    "train_set_x_orig = train_set_x_orig_flatten/255\n",
    "test_set_x_orig = test_set_x_orig_flatten/255\n",
    "print(train_set_x_orig)"
   ]
  },
  {
   "cell_type": "code",
   "execution_count": null,
   "metadata": {},
   "outputs": [],
   "source": []
  },
  {
   "cell_type": "code",
   "execution_count": null,
   "metadata": {},
   "outputs": [],
   "source": []
  }
 ],
 "metadata": {
  "kernelspec": {
   "display_name": "Python 3",
   "language": "python",
   "name": "python3"
  },
  "language_info": {
   "codemirror_mode": {
    "name": "ipython",
    "version": 3
   },
   "file_extension": ".py",
   "mimetype": "text/x-python",
   "name": "python",
   "nbconvert_exporter": "python",
   "pygments_lexer": "ipython3",
   "version": "3.7.3"
  }
 },
 "nbformat": 4,
 "nbformat_minor": 2
}
